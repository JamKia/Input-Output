{
  "nbformat": 4,
  "nbformat_minor": 0,
  "metadata": {
    "colab": {
      "name": "Input-Output.ipynb",
      "provenance": [],
      "authorship_tag": "ABX9TyPM/emvnG6pTJXEozc33k09",
      "include_colab_link": true
    },
    "kernelspec": {
      "name": "python3",
      "display_name": "Python 3"
    },
    "language_info": {
      "name": "python"
    }
  },
  "cells": [
    {
      "cell_type": "markdown",
      "metadata": {
        "id": "view-in-github",
        "colab_type": "text"
      },
      "source": [
        "<a href=\"https://colab.research.google.com/github/JamKia/Input-Output/blob/main/Input_Output.ipynb\" target=\"_parent\"><img src=\"https://colab.research.google.com/assets/colab-badge.svg\" alt=\"Open In Colab\"/></a>"
      ]
    },
    {
      "cell_type": "code",
      "execution_count": null,
      "metadata": {
        "id": "VxgrreEu0ZNl"
      },
      "outputs": [],
      "source": [
        "import pandas as pd"
      ]
    },
    {
      "cell_type": "code",
      "source": [
        "# Excel\n",
        "address = 'the address string'\n",
        "data = pd.read_excel(address+'filename.xlsx')\n",
        "print(type(data)) #dataframe"
      ],
      "metadata": {
        "id": "qH9pfx-JI3qd"
      },
      "execution_count": null,
      "outputs": []
    },
    {
      "cell_type": "code",
      "source": [
        "# CSV\n",
        "address = 'the address string'\n",
        "data = pd.read_csv(address+'filename.csv')\n",
        "print(type(data)) #dataframe"
      ],
      "metadata": {
        "id": "DNJOvyTuJVAF"
      },
      "execution_count": null,
      "outputs": []
    },
    {
      "cell_type": "code",
      "source": [
        "# dataframe and pickle\n",
        "data.to_pickle(address+'picklefile')\n",
        "data = pd.read_pickle(address+'picklefile')"
      ],
      "metadata": {
        "id": "3WsqgiL_Jk0H"
      },
      "execution_count": null,
      "outputs": []
    }
  ]
}